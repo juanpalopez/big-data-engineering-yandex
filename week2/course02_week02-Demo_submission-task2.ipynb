{
 "cells": [
  {
   "cell_type": "code",
   "execution_count": 5,
   "metadata": {},
   "outputs": [
    {
     "name": "stdout",
     "output_type": "stream",
     "text": [
      "Overwriting task2a.hql\n"
     ]
    }
   ],
   "source": [
    "%%writefile task2a.hql\n",
    "\n",
    "ADD JAR /opt/cloudera/parcels/CDH/lib/hive/lib/hive-contrib.jar;\n",
    "\n",
    "USE stackoverflow_;\n",
    "\n",
    "DROP TABLE IF EXISTS post_tags;\n",
    "\n",
    "CREATE TABLE post_tags as\n",
    "SELECT \n",
    "    year,\n",
    "    LOWER(tags_exploded) as tags_exploded,\n",
    "    count(1) as tag_count\n",
    "FROM posts\n",
    "    LATERAL VIEW EXPLODE(tags) lateral_table as tags_exploded\n",
    "WHERE post_type_id = 1\n",
    "GROUP BY year, tags_exploded;"
   ]
  },
  {
   "cell_type": "code",
   "execution_count": 22,
   "metadata": {},
   "outputs": [
    {
     "name": "stdout",
     "output_type": "stream",
     "text": [
      "Overwriting task2b.hql\n"
     ]
    }
   ],
   "source": [
    "%%writefile task2b.hql\n",
    "\n",
    "ADD JAR /opt/cloudera/parcels/CDH/lib/hive/lib/hive-contrib.jar;\n",
    "\n",
    "USE stackoverflow_;\n",
    "\n",
    "WITH post_tags as\n",
    "(SELECT \n",
    "    year,\n",
    "    LOWER(tags_exploded) as tags_exploded,\n",
    "    count(1) as tag_count\n",
    "FROM posts\n",
    "    LATERAL VIEW EXPLODE(tags) lateral_table as tags_exploded\n",
    "WHERE post_type_id = 1\n",
    "GROUP BY year, tags_exploded)\n",
    "\n",
    "SELECT\n",
    "    t2016.tags_exploded,\n",
    "    t2016.ranking,\n",
    "    t2009.ranking,\n",
    "    t2016.tag_count,\n",
    "    t2009.tag_count\n",
    "FROM (\n",
    "    SELECT\n",
    "        year,\n",
    "        tags_exploded,\n",
    "        rank() over(order by tag_count DESC) as ranking,\n",
    "        tag_count\n",
    "        from post_tags\n",
    "        where year=2016\n",
    ") t2016\n",
    "left join(\n",
    "    SELECT\n",
    "        year,\n",
    "        tags_exploded,\n",
    "        rank() over(order by tag_count DESC) as ranking,\n",
    "        tag_count\n",
    "        from post_tags\n",
    "        where year=2009\n",
    ") t2009\n",
    "ON\n",
    "    t2016.tags_exploded = t2009.tags_exploded\n",
    "limit 10;\n",
    "    "
   ]
  },
  {
   "cell_type": "code",
   "execution_count": 23,
   "metadata": {},
   "outputs": [
    {
     "name": "stdout",
     "output_type": "stream",
     "text": [
      "\n",
      "Logging initialized using configuration in jar:file:/usr/local/apache-hive-1.1.0-bin/lib/hive-common-1.1.0.jar!/hive-log4j.properties\n",
      "Added [/opt/cloudera/parcels/CDH/lib/hive/lib/hive-contrib.jar] to class path\n",
      "Added resources: [/opt/cloudera/parcels/CDH/lib/hive/lib/hive-contrib.jar]\n",
      "OK\n",
      "Time taken: 0.527 seconds\n",
      "Query ID = jovyan_20180619223131_8cf58b27-4394-49a9-95af-bba0014f891f\n",
      "Total jobs = 4\n",
      "Launching Job 1 out of 4\n",
      "Number of reduce tasks not specified. Estimated from input data size: 1\n",
      "In order to change the average load for a reducer (in bytes):\n",
      "  set hive.exec.reducers.bytes.per.reducer=<number>\n",
      "In order to limit the maximum number of reducers:\n",
      "  set hive.exec.reducers.max=<number>\n",
      "In order to set a constant number of reducers:\n",
      "  set mapreduce.job.reduces=<number>\n",
      "Starting Job = job_1529433183114_0026, Tracking URL = http://397fc019605f:8088/proxy/application_1529433183114_0026/\n",
      "Kill Command = /opt/hadoop/bin/hadoop job  -kill job_1529433183114_0026\n",
      "Hadoop job information for Stage-1: number of mappers: 1; number of reducers: 1\n",
      "2018-06-19 22:31:22,945 Stage-1 map = 0%,  reduce = 0%\n",
      "2018-06-19 22:31:30,265 Stage-1 map = 100%,  reduce = 0%, Cumulative CPU 3.84 sec\n",
      "2018-06-19 22:31:38,566 Stage-1 map = 100%,  reduce = 100%, Cumulative CPU 7.5 sec\n",
      "MapReduce Total cumulative CPU time: 7 seconds 500 msec\n",
      "Ended Job = job_1529433183114_0026\n",
      "Launching Job 2 out of 4\n",
      "Number of reduce tasks not specified. Estimated from input data size: 1\n",
      "In order to change the average load for a reducer (in bytes):\n",
      "  set hive.exec.reducers.bytes.per.reducer=<number>\n",
      "In order to limit the maximum number of reducers:\n",
      "  set hive.exec.reducers.max=<number>\n",
      "In order to set a constant number of reducers:\n",
      "  set mapreduce.job.reduces=<number>\n",
      "Starting Job = job_1529433183114_0027, Tracking URL = http://397fc019605f:8088/proxy/application_1529433183114_0027/\n",
      "Kill Command = /opt/hadoop/bin/hadoop job  -kill job_1529433183114_0027\n",
      "Hadoop job information for Stage-3: number of mappers: 1; number of reducers: 1\n",
      "2018-06-19 22:31:52,636 Stage-3 map = 0%,  reduce = 0%\n",
      "2018-06-19 22:31:59,022 Stage-3 map = 100%,  reduce = 0%, Cumulative CPU 2.87 sec\n",
      "2018-06-19 22:32:05,258 Stage-3 map = 100%,  reduce = 100%, Cumulative CPU 6.04 sec\n",
      "MapReduce Total cumulative CPU time: 6 seconds 40 msec\n",
      "Ended Job = job_1529433183114_0027\n",
      "Stage-6 is selected by condition resolver.\n",
      "Stage-2 is filtered out by condition resolver.\n",
      "Execution log at: /tmp/jovyan/jovyan_20180619223131_8cf58b27-4394-49a9-95af-bba0014f891f.log\n",
      "2018-06-19 10:32:11\tStarting to launch local task to process map join;\tmaximum memory = 477626368\n",
      "2018-06-19 10:32:12\tDump the side-table for tag: 1 with group count: 2369 into file: file:/tmp/jovyan/c4cb6c74-5ecb-421a-b526-e1642008bccc/hive_2018-06-19_22-31-11_662_6953575433183498657-1/-local-10005/HashTable-Stage-4/MapJoin-mapfile01--.hashtable\n",
      "2018-06-19 10:32:12\tUploaded 1 File to: file:/tmp/jovyan/c4cb6c74-5ecb-421a-b526-e1642008bccc/hive_2018-06-19_22-31-11_662_6953575433183498657-1/-local-10005/HashTable-Stage-4/MapJoin-mapfile01--.hashtable (76823 bytes)\n",
      "2018-06-19 10:32:12\tEnd of local task; Time Taken: 1.281 sec.\n",
      "Execution completed successfully\n",
      "MapredLocal task succeeded\n",
      "Launching Job 4 out of 4\n",
      "Number of reduce tasks is set to 0 since there's no reduce operator\n",
      "Starting Job = job_1529433183114_0028, Tracking URL = http://397fc019605f:8088/proxy/application_1529433183114_0028/\n",
      "Kill Command = /opt/hadoop/bin/hadoop job  -kill job_1529433183114_0028\n",
      "Hadoop job information for Stage-4: number of mappers: 1; number of reducers: 0\n",
      "2018-06-19 22:32:21,493 Stage-4 map = 0%,  reduce = 0%\n",
      "2018-06-19 22:32:27,714 Stage-4 map = 100%,  reduce = 0%, Cumulative CPU 1.83 sec\n",
      "MapReduce Total cumulative CPU time: 1 seconds 830 msec\n",
      "Ended Job = job_1529433183114_0028\n",
      "MapReduce Jobs Launched: \n",
      "Stage-Stage-1: Map: 1  Reduce: 1   Cumulative CPU: 7.5 sec   HDFS Read: 970678 HDFS Write: 311766 SUCCESS\n",
      "Stage-Stage-3: Map: 1  Reduce: 1   Cumulative CPU: 6.04 sec   HDFS Read: 970690 HDFS Write: 74637 SUCCESS\n",
      "Stage-Stage-4: Map: 1   Cumulative CPU: 1.83 sec   HDFS Read: 5766 HDFS Write: 188 SUCCESS\n",
      "Total MapReduce CPU Time Spent: 15 seconds 370 msec\n",
      "OK\n",
      "javascript\t1\t5\t2771\t192\n",
      "java\t2\t2\t2033\t243\n",
      "android\t3\t52\t1809\t25\n",
      "php\t4\t3\t1673\t215\n",
      "python\t5\t11\t1585\t108\n",
      "c#\t6\t1\t1519\t423\n",
      "html\t7\t14\t1212\t84\n",
      "jquery\t8\t8\t1167\t141\n",
      "ios\t9\t186\t914\t7\n",
      "css\t10\t20\t801\t59\n",
      "Time taken: 77.134 seconds, Fetched: 10 row(s)\n"
     ]
    }
   ],
   "source": [
    "!hive -f task2b.hql"
   ]
  },
  {
   "cell_type": "code",
   "execution_count": null,
   "metadata": {},
   "outputs": [],
   "source": []
  }
 ],
 "metadata": {
  "kernelspec": {
   "display_name": "Python 2",
   "language": "python",
   "name": "python2"
  },
  "language_info": {
   "codemirror_mode": {
    "name": "ipython",
    "version": 2
   },
   "file_extension": ".py",
   "mimetype": "text/x-python",
   "name": "python",
   "nbconvert_exporter": "python",
   "pygments_lexer": "ipython2",
   "version": "2.7.12"
  }
 },
 "nbformat": 4,
 "nbformat_minor": 2
}
